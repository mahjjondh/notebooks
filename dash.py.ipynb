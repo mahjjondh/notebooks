{
 "cells": [
  {
   "cell_type": "code",
   "execution_count": 4,
   "metadata": {},
   "outputs": [],
   "source": [
    "import psutil\n",
    "import datetime\n",
    "import subprocess"
   ]
  },
  {
   "cell_type": "code",
   "execution_count": 5,
   "metadata": {},
   "outputs": [],
   "source": [
    "import numpy as np\n",
    "import pandas as pd"
   ]
  },
  {
   "cell_type": "code",
   "execution_count": 6,
   "metadata": {},
   "outputs": [],
   "source": [
    "import matplotlib.pyplot as plt\n",
    "import seaborn as sns\n",
    "%matplotlib inline"
   ]
  },
  {
   "cell_type": "code",
   "execution_count": 19,
   "metadata": {},
   "outputs": [],
   "source": [
    "import plotly.offline as pyo\n",
    "import plotly.graph_objs as go\n",
    "from plotly.offline import init_notebook_mode, plot, iplot, download_plotlyjs"
   ]
  },
  {
   "cell_type": "code",
   "execution_count": 8,
   "metadata": {},
   "outputs": [
    {
     "data": {
      "text/html": [
       "<script type=\"text/javascript\">window.PlotlyConfig = {MathJaxConfig: 'local'};</script><script type=\"text/javascript\">if (window.MathJax) {MathJax.Hub.Config({SVG: {font: \"STIX-Web\"}});}</script><script>requirejs.config({paths: { 'plotly': ['https://cdn.plot.ly/plotly-latest.min']},});if(!window._Plotly) {require(['plotly'],function(plotly) {window._Plotly=plotly;});}</script>"
      ],
      "text/vnd.plotly.v1+html": [
       "<script type=\"text/javascript\">window.PlotlyConfig = {MathJaxConfig: 'local'};</script><script type=\"text/javascript\">if (window.MathJax) {MathJax.Hub.Config({SVG: {font: \"STIX-Web\"}});}</script><script>requirejs.config({paths: { 'plotly': ['https://cdn.plot.ly/plotly-latest.min']},});if(!window._Plotly) {require(['plotly'],function(plotly) {window._Plotly=plotly;});}</script>"
      ]
     },
     "metadata": {},
     "output_type": "display_data"
    }
   ],
   "source": [
    "init_notebook_mode(connected=True)"
   ]
  },
  {
   "cell_type": "code",
   "execution_count": 9,
   "metadata": {},
   "outputs": [],
   "source": [
    "import dash\n",
    "import dash_core_components as dcc\n",
    "import dash_html_components as html"
   ]
  },
  {
   "cell_type": "code",
   "execution_count": 10,
   "metadata": {},
   "outputs": [
    {
     "name": "stdout",
     "output_type": "stream",
     "text": [
      "{'total': 8364335104, 'available': 4186550272, 'percent': 49.9, 'used': 3722784768, 'free': 2480054272, 'active': 4427042816, 'inactive': 1061666816, 'buffers': 199704576, 'cached': 1961791488, 'shared': 150466560, 'slab': 241373184}\n"
     ]
    }
   ],
   "source": [
    "print(dict(psutil.virtual_memory()._asdict()))"
   ]
  },
  {
   "cell_type": "code",
   "execution_count": 11,
   "metadata": {},
   "outputs": [],
   "source": [
    "df = pd.read_csv('csv_test.csv')"
   ]
  },
  {
   "cell_type": "code",
   "execution_count": 12,
   "metadata": {},
   "outputs": [],
   "source": [
    "df['data'] = pd.to_datetime(df['dmed'],utc='+3')"
   ]
  },
  {
   "cell_type": "code",
   "execution_count": 13,
   "metadata": {},
   "outputs": [
    {
     "data": {
      "text/plain": [
       "Index(['loaded', 'memoria', 'ativo', 'pid', 'dmed', 'servico', 'dini', 'dfim',\n",
       "       'data'],\n",
       "      dtype='object')"
      ]
     },
     "execution_count": 13,
     "metadata": {},
     "output_type": "execute_result"
    }
   ],
   "source": [
    "df.columns"
   ]
  },
  {
   "cell_type": "code",
   "execution_count": 14,
   "metadata": {},
   "outputs": [],
   "source": [
    "df['on_off'] = np.where(df['ativo']=='active',1,-1)"
   ]
  },
  {
   "cell_type": "code",
   "execution_count": 15,
   "metadata": {},
   "outputs": [],
   "source": [
    "df['cor'] = np.where(df['ativo']=='active','#374249','#ff471a')"
   ]
  },
  {
   "cell_type": "code",
   "execution_count": 21,
   "metadata": {},
   "outputs": [
    {
     "data": {
      "application/vnd.plotly.v1+json": {
       "config": {
        "linkText": "Export to plot.ly",
        "plotlyServerURL": "https://plot.ly",
        "showLink": false
       },
       "data": [
        {
         "marker": {
          "color": [
           "#374249",
           "#374249",
           "#374249",
           "#374249",
           "#374249"
          ]
         },
         "mode": "lines+markers",
         "name": "colord",
         "type": "scatter",
         "uid": "a5cde3b7-2520-4bf1-ae71-5f342aed5755",
         "x": [
          "2019-03-20 09:33:54",
          "2019-03-20 09:34:04",
          "2019-03-20 09:34:14",
          "2019-03-20 09:34:24",
          "2019-03-20 09:34:34"
         ],
         "y": [
          0,
          0,
          0,
          0,
          0
         ]
        },
        {
         "marker": {
          "color": [
           "#374249",
           "#374249",
           "#374249",
           "#374249",
           "#374249"
          ]
         },
         "mode": "lines+markers",
         "name": "gdm",
         "type": "scatter",
         "uid": "d48274f0-c5fc-4174-8b79-6dbe6a114961",
         "x": [
          "2019-03-20 09:33:54",
          "2019-03-20 09:34:04",
          "2019-03-20 09:34:14",
          "2019-03-20 09:34:24",
          "2019-03-20 09:34:34"
         ],
         "y": [
          0,
          0,
          0,
          0,
          0
         ]
        }
       ],
       "layout": {}
      },
      "text/html": [
       "<div id=\"67921129-c515-4c8e-973a-efbaa9b9585e\" style=\"height: 525px; width: 100%;\" class=\"plotly-graph-div\"></div><script type=\"text/javascript\">require([\"plotly\"], function(Plotly) { window.PLOTLYENV=window.PLOTLYENV || {};window.PLOTLYENV.BASE_URL=\"https://plot.ly\";\n",
       "if (document.getElementById(\"67921129-c515-4c8e-973a-efbaa9b9585e\")) {\n",
       "    Plotly.newPlot(\"67921129-c515-4c8e-973a-efbaa9b9585e\", [{\"marker\": {\"color\": [\"#374249\", \"#374249\", \"#374249\", \"#374249\", \"#374249\"]}, \"mode\": \"lines+markers\", \"name\": \"colord\", \"x\": [\"2019-03-20 09:33:54\", \"2019-03-20 09:34:04\", \"2019-03-20 09:34:14\", \"2019-03-20 09:34:24\", \"2019-03-20 09:34:34\"], \"y\": [0, 0, 0, 0, 0], \"type\": \"scatter\", \"uid\": \"a5cde3b7-2520-4bf1-ae71-5f342aed5755\"}, {\"marker\": {\"color\": [\"#374249\", \"#374249\", \"#374249\", \"#374249\", \"#374249\"]}, \"mode\": \"lines+markers\", \"name\": \"gdm\", \"x\": [\"2019-03-20 09:33:54\", \"2019-03-20 09:34:04\", \"2019-03-20 09:34:14\", \"2019-03-20 09:34:24\", \"2019-03-20 09:34:34\"], \"y\": [0, 0, 0, 0, 0], \"type\": \"scatter\", \"uid\": \"d48274f0-c5fc-4174-8b79-6dbe6a114961\"}], {}, {\"showLink\": false, \"linkText\": \"Export to plot.ly\", \"plotlyServerURL\": \"https://plot.ly\"}); \n",
       "}\n",
       "});</script><script type=\"text/javascript\">window.addEventListener(\"resize\", function(){if (document.getElementById(\"67921129-c515-4c8e-973a-efbaa9b9585e\")) {window._Plotly.Plots.resize(document.getElementById(\"67921129-c515-4c8e-973a-efbaa9b9585e\"));};})</script>"
      ],
      "text/vnd.plotly.v1+html": [
       "<div id=\"67921129-c515-4c8e-973a-efbaa9b9585e\" style=\"height: 525px; width: 100%;\" class=\"plotly-graph-div\"></div><script type=\"text/javascript\">require([\"plotly\"], function(Plotly) { window.PLOTLYENV=window.PLOTLYENV || {};window.PLOTLYENV.BASE_URL=\"https://plot.ly\";\n",
       "if (document.getElementById(\"67921129-c515-4c8e-973a-efbaa9b9585e\")) {\n",
       "    Plotly.newPlot(\"67921129-c515-4c8e-973a-efbaa9b9585e\", [{\"marker\": {\"color\": [\"#374249\", \"#374249\", \"#374249\", \"#374249\", \"#374249\"]}, \"mode\": \"lines+markers\", \"name\": \"colord\", \"x\": [\"2019-03-20 09:33:54\", \"2019-03-20 09:34:04\", \"2019-03-20 09:34:14\", \"2019-03-20 09:34:24\", \"2019-03-20 09:34:34\"], \"y\": [0, 0, 0, 0, 0], \"type\": \"scatter\", \"uid\": \"a5cde3b7-2520-4bf1-ae71-5f342aed5755\"}, {\"marker\": {\"color\": [\"#374249\", \"#374249\", \"#374249\", \"#374249\", \"#374249\"]}, \"mode\": \"lines+markers\", \"name\": \"gdm\", \"x\": [\"2019-03-20 09:33:54\", \"2019-03-20 09:34:04\", \"2019-03-20 09:34:14\", \"2019-03-20 09:34:24\", \"2019-03-20 09:34:34\"], \"y\": [0, 0, 0, 0, 0], \"type\": \"scatter\", \"uid\": \"d48274f0-c5fc-4174-8b79-6dbe6a114961\"}], {}, {\"showLink\": false, \"linkText\": \"Export to plot.ly\", \"plotlyServerURL\": \"https://plot.ly\"}); \n",
       "}\n",
       "});</script><script type=\"text/javascript\">window.addEventListener(\"resize\", function(){if (document.getElementById(\"67921129-c515-4c8e-973a-efbaa9b9585e\")) {window._Plotly.Plots.resize(document.getElementById(\"67921129-c515-4c8e-973a-efbaa9b9585e\"));};})</script>"
      ]
     },
     "metadata": {},
     "output_type": "display_data"
    }
   ],
   "source": [
    "fig = go.Figure()\n",
    "for servico, pid in df.tail(10).groupby('servico'):\n",
    "    fig.add_scatter(x=pid.data, y=pid.memoria, name=servico, mode='lines+markers', marker=dict(color=pid.cor))\n",
    "pyo.plot(fig, filename='memoria.html')\n",
    "iplot(fig)"
   ]
  },
  {
   "cell_type": "code",
   "execution_count": 23,
   "metadata": {},
   "outputs": [
    {
     "data": {
      "application/vnd.plotly.v1+json": {
       "config": {
        "linkText": "Export to plot.ly",
        "plotlyServerURL": "https://plot.ly",
        "showLink": false
       },
       "data": [
        {
         "marker": {
          "color": [
           "#374249",
           "#374249",
           "#374249",
           "#374249",
           "#374249"
          ]
         },
         "mode": "markers",
         "name": "colord",
         "type": "scatter",
         "uid": "341a6c4f-47bd-477c-a10e-0d3f72f704c7",
         "x": [
          "2019-03-20 09:33:54",
          "2019-03-20 09:34:04",
          "2019-03-20 09:34:14",
          "2019-03-20 09:34:24",
          "2019-03-20 09:34:34"
         ],
         "y": [
          1,
          1,
          1,
          1,
          1
         ]
        },
        {
         "marker": {
          "color": [
           "#374249",
           "#374249",
           "#374249",
           "#374249",
           "#374249"
          ]
         },
         "mode": "markers",
         "name": "gdm",
         "type": "scatter",
         "uid": "2968b7e3-b577-4f5c-a3bd-9c5162a28c55",
         "x": [
          "2019-03-20 09:33:54",
          "2019-03-20 09:34:04",
          "2019-03-20 09:34:14",
          "2019-03-20 09:34:24",
          "2019-03-20 09:34:34"
         ],
         "y": [
          1,
          1,
          1,
          1,
          1
         ]
        }
       ],
       "layout": {}
      },
      "text/html": [
       "<div id=\"adf5e28e-2922-4f66-9d23-0296a6208d9f\" style=\"height: 525px; width: 100%;\" class=\"plotly-graph-div\"></div><script type=\"text/javascript\">require([\"plotly\"], function(Plotly) { window.PLOTLYENV=window.PLOTLYENV || {};window.PLOTLYENV.BASE_URL=\"https://plot.ly\";\n",
       "if (document.getElementById(\"adf5e28e-2922-4f66-9d23-0296a6208d9f\")) {\n",
       "    Plotly.newPlot(\"adf5e28e-2922-4f66-9d23-0296a6208d9f\", [{\"marker\": {\"color\": [\"#374249\", \"#374249\", \"#374249\", \"#374249\", \"#374249\"]}, \"mode\": \"markers\", \"name\": \"colord\", \"x\": [\"2019-03-20 09:33:54\", \"2019-03-20 09:34:04\", \"2019-03-20 09:34:14\", \"2019-03-20 09:34:24\", \"2019-03-20 09:34:34\"], \"y\": [1, 1, 1, 1, 1], \"type\": \"scatter\", \"uid\": \"341a6c4f-47bd-477c-a10e-0d3f72f704c7\"}, {\"marker\": {\"color\": [\"#374249\", \"#374249\", \"#374249\", \"#374249\", \"#374249\"]}, \"mode\": \"markers\", \"name\": \"gdm\", \"x\": [\"2019-03-20 09:33:54\", \"2019-03-20 09:34:04\", \"2019-03-20 09:34:14\", \"2019-03-20 09:34:24\", \"2019-03-20 09:34:34\"], \"y\": [1, 1, 1, 1, 1], \"type\": \"scatter\", \"uid\": \"2968b7e3-b577-4f5c-a3bd-9c5162a28c55\"}], {}, {\"showLink\": false, \"linkText\": \"Export to plot.ly\", \"plotlyServerURL\": \"https://plot.ly\"}); \n",
       "}\n",
       "});</script><script type=\"text/javascript\">window.addEventListener(\"resize\", function(){if (document.getElementById(\"adf5e28e-2922-4f66-9d23-0296a6208d9f\")) {window._Plotly.Plots.resize(document.getElementById(\"adf5e28e-2922-4f66-9d23-0296a6208d9f\"));};})</script>"
      ],
      "text/vnd.plotly.v1+html": [
       "<div id=\"adf5e28e-2922-4f66-9d23-0296a6208d9f\" style=\"height: 525px; width: 100%;\" class=\"plotly-graph-div\"></div><script type=\"text/javascript\">require([\"plotly\"], function(Plotly) { window.PLOTLYENV=window.PLOTLYENV || {};window.PLOTLYENV.BASE_URL=\"https://plot.ly\";\n",
       "if (document.getElementById(\"adf5e28e-2922-4f66-9d23-0296a6208d9f\")) {\n",
       "    Plotly.newPlot(\"adf5e28e-2922-4f66-9d23-0296a6208d9f\", [{\"marker\": {\"color\": [\"#374249\", \"#374249\", \"#374249\", \"#374249\", \"#374249\"]}, \"mode\": \"markers\", \"name\": \"colord\", \"x\": [\"2019-03-20 09:33:54\", \"2019-03-20 09:34:04\", \"2019-03-20 09:34:14\", \"2019-03-20 09:34:24\", \"2019-03-20 09:34:34\"], \"y\": [1, 1, 1, 1, 1], \"type\": \"scatter\", \"uid\": \"341a6c4f-47bd-477c-a10e-0d3f72f704c7\"}, {\"marker\": {\"color\": [\"#374249\", \"#374249\", \"#374249\", \"#374249\", \"#374249\"]}, \"mode\": \"markers\", \"name\": \"gdm\", \"x\": [\"2019-03-20 09:33:54\", \"2019-03-20 09:34:04\", \"2019-03-20 09:34:14\", \"2019-03-20 09:34:24\", \"2019-03-20 09:34:34\"], \"y\": [1, 1, 1, 1, 1], \"type\": \"scatter\", \"uid\": \"2968b7e3-b577-4f5c-a3bd-9c5162a28c55\"}], {}, {\"showLink\": false, \"linkText\": \"Export to plot.ly\", \"plotlyServerURL\": \"https://plot.ly\"}); \n",
       "}\n",
       "});</script><script type=\"text/javascript\">window.addEventListener(\"resize\", function(){if (document.getElementById(\"adf5e28e-2922-4f66-9d23-0296a6208d9f\")) {window._Plotly.Plots.resize(document.getElementById(\"adf5e28e-2922-4f66-9d23-0296a6208d9f\"));};})</script>"
      ]
     },
     "metadata": {},
     "output_type": "display_data"
    }
   ],
   "source": [
    "fig1 = go.Figure()\n",
    "for servico, pid in df.tail(10).groupby('servico'):\n",
    "    fig1.add_scatter(x=pid.data, y=pid.on_off, name=servico, mode='markers', marker=dict(color=pid.cor))\n",
    "pyo.plot(fig1, filename='on_off.html')\n",
    "iplot(fig1)"
   ]
  },
  {
   "cell_type": "code",
   "execution_count": 358,
   "metadata": {},
   "outputs": [],
   "source": [
    "qtd_serv = open('teste_csv.csv','r')"
   ]
  },
  {
   "cell_type": "code",
   "execution_count": 359,
   "metadata": {},
   "outputs": [],
   "source": [
    "qtdserv = (len(qtd_serv.readlines()))"
   ]
  },
  {
   "cell_type": "code",
   "execution_count": 360,
   "metadata": {},
   "outputs": [],
   "source": [
    "qtdtail = qtdserv-1"
   ]
  },
  {
   "cell_type": "code",
   "execution_count": 361,
   "metadata": {},
   "outputs": [],
   "source": [
    "qtd_serv.close()"
   ]
  },
  {
   "cell_type": "code",
   "execution_count": 362,
   "metadata": {},
   "outputs": [],
   "source": [
    "df_tail = df.tail(qtdtail)"
   ]
  },
  {
   "cell_type": "code",
   "execution_count": 363,
   "metadata": {},
   "outputs": [
    {
     "name": "stdout",
     "output_type": "stream",
     "text": [
      "16:36:31\n"
     ]
    },
    {
     "name": "stderr",
     "output_type": "stream",
     "text": [
      "/home/c1299249/anaconda3/lib/python3.7/site-packages/ipykernel_launcher.py:5: SettingWithCopyWarning:\n",
      "\n",
      "\n",
      "A value is trying to be set on a copy of a slice from a DataFrame.\n",
      "Try using .loc[row_indexer,col_indexer] = value instead\n",
      "\n",
      "See the caveats in the documentation: http://pandas.pydata.org/pandas-docs/stable/indexing.html#indexing-view-versus-copy\n",
      "\n",
      "/home/c1299249/anaconda3/lib/python3.7/site-packages/ipykernel_launcher.py:6: SettingWithCopyWarning:\n",
      "\n",
      "\n",
      "A value is trying to be set on a copy of a slice from a DataFrame.\n",
      "Try using .loc[row_indexer,col_indexer] = value instead\n",
      "\n",
      "See the caveats in the documentation: http://pandas.pydata.org/pandas-docs/stable/indexing.html#indexing-view-versus-copy\n",
      "\n"
     ]
    }
   ],
   "source": [
    "#df_tail['ativadesativa'] = np.where(pd.to_timedelta(df_tail['hini']) < pd.Timestamp.now() < pd.to_timedelta(df_tail['hfim']))\n",
    "nowa = datetime.datetime.now()\n",
    "strnowa = nowa.strftime('%H:%M:%S')\n",
    "print(strnowa)\n",
    "df_tail['str_nowa'] = strnowa\n",
    "df_tail['trigger_ativa'] = np.where(((df_tail['str_nowa'] > df_tail['dini'])) & (df_tail['str_nowa'] < df_tail['dfim']), 'ativado','desativar')"
   ]
  },
  {
   "cell_type": "code",
   "execution_count": 364,
   "metadata": {},
   "outputs": [],
   "source": [
    "df_inativo = df_tail[df_tail['ativo']!='active']"
   ]
  },
  {
   "cell_type": "code",
   "execution_count": 365,
   "metadata": {},
   "outputs": [],
   "source": [
    "for i in df_inativo['servico']:\n",
    "    #print('sudo systemctl start '+i)"
   ]
  },
  {
   "cell_type": "code",
   "execution_count": 366,
   "metadata": {},
   "outputs": [],
   "source": [
    "df_desativar = df_tail[df_tail['trigger_ativa'] == 'desativar']"
   ]
  },
  {
   "cell_type": "code",
   "execution_count": 367,
   "metadata": {},
   "outputs": [],
   "source": [
    "for i in df_desativar['servico']:\n",
    "    #print('sudo systemctl stop '+i)"
   ]
  },
  {
   "cell_type": "code",
   "execution_count": null,
   "metadata": {},
   "outputs": [],
   "source": []
  }
 ],
 "metadata": {
  "kernelspec": {
   "display_name": "Python 3",
   "language": "python",
   "name": "python3"
  },
  "language_info": {
   "codemirror_mode": {
    "name": "ipython",
    "version": 3
   },
   "file_extension": ".py",
   "mimetype": "text/x-python",
   "name": "python",
   "nbconvert_exporter": "python",
   "pygments_lexer": "ipython3",
   "version": "3.7.1"
  }
 },
 "nbformat": 4,
 "nbformat_minor": 2
}
