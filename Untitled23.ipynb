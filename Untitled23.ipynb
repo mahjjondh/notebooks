{
 "cells": [
  {
   "cell_type": "code",
   "execution_count": 1,
   "metadata": {},
   "outputs": [],
   "source": [
    "import os\n",
    "import pandas as pd\n",
    "import locale\n",
    "import numpy as np"
   ]
  },
  {
   "cell_type": "code",
   "execution_count": 2,
   "metadata": {},
   "outputs": [
    {
     "data": {
      "text/plain": [
       "'pt_BR.UTF-8'"
      ]
     },
     "execution_count": 2,
     "metadata": {},
     "output_type": "execute_result"
    }
   ],
   "source": [
    "locale.setlocale(locale.LC_ALL, 'pt_BR.UTF-8')"
   ]
  },
  {
   "cell_type": "code",
   "execution_count": 3,
   "metadata": {},
   "outputs": [],
   "source": [
    "df_list = []"
   ]
  },
  {
   "cell_type": "code",
   "execution_count": 4,
   "metadata": {},
   "outputs": [
    {
     "name": "stdout",
     "output_type": "stream",
     "text": [
      "ano incompleto\n",
      "ano incompleto\n",
      "ano incompleto\n"
     ]
    }
   ],
   "source": [
    "for root, dirs, files in os.walk('C:\\\\datasets\\\\execucao_receitas_ptransp\\\\temp'):\n",
    "    for file in files:\n",
    "        arq = os.path.join(root, file)\n",
    "        if file.startswith('2014') or file.startswith('2015') or file.startswith('2013'):\n",
    "            print('ano incompleto')\n",
    "            pass\n",
    "        else:\n",
    "            frame = pd.read_csv(arq,encoding='iso-8859-1',delimiter=';')\n",
    "            #frame['Valor Empenhado (R$)'] = pd.to_numeric(frame['Valor Empenhado (R$)'])\n",
    "            df_list.append(frame)\n",
    "df = pd.concat(df_list)\n",
    "df['Tipo'] = 'Receitas'"
   ]
  },
  {
   "cell_type": "code",
   "execution_count": 5,
   "metadata": {},
   "outputs": [],
   "source": [
    "import sqlalchemy"
   ]
  },
  {
   "cell_type": "code",
   "execution_count": 12,
   "metadata": {},
   "outputs": [],
   "source": [
    "engine_mysql = 'mysql+pymysql://root:@localhost:3306/rec_desp'"
   ]
  },
  {
   "cell_type": "code",
   "execution_count": 13,
   "metadata": {},
   "outputs": [],
   "source": [
    "engine = sqlalchemy.create_engine(engine_mysql)"
   ]
  },
  {
   "cell_type": "code",
   "execution_count": 14,
   "metadata": {},
   "outputs": [
    {
     "name": "stdout",
     "output_type": "stream",
     "text": [
      "receitas inseridas\n"
     ]
    }
   ],
   "source": [
    "df.to_sql(name='receitas', con=engine, if_exists='append', index=False)\n",
    "print('receitas inseridas')"
   ]
  },
  {
   "cell_type": "code",
   "execution_count": null,
   "metadata": {},
   "outputs": [],
   "source": []
  }
 ],
 "metadata": {
  "kernelspec": {
   "display_name": "Python 3",
   "language": "python",
   "name": "python3"
  },
  "language_info": {
   "codemirror_mode": {
    "name": "ipython",
    "version": 3
   },
   "file_extension": ".py",
   "mimetype": "text/x-python",
   "name": "python",
   "nbconvert_exporter": "python",
   "pygments_lexer": "ipython3",
   "version": "3.7.4"
  }
 },
 "nbformat": 4,
 "nbformat_minor": 2
}
