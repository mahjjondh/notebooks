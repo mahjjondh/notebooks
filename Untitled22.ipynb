{
 "cells": [
  {
   "cell_type": "code",
   "execution_count": 2,
   "metadata": {},
   "outputs": [],
   "source": [
    "from selenium import webdriver\n",
    "import os\n",
    "import time\n",
    "from selenium.webdriver.common.keys import Keys\n",
    "import sys\n",
    "from datetime import datetime\n",
    "from selenium.webdriver.common.action_chains import ActionChains\n",
    "from selenium.webdriver.support.ui import Select"
   ]
  },
  {
   "cell_type": "code",
   "execution_count": 3,
   "metadata": {},
   "outputs": [],
   "source": [
    "chromeOptions = webdriver.ChromeOptions()\n",
    "prefs = {\"download.default_directory\" : \"C:\\\\datasets\\\\execucao_despesas_ptransp\"}\n",
    "chromeOptions.add_experimental_option(\"prefs\",prefs)"
   ]
  },
  {
   "cell_type": "code",
   "execution_count": 4,
   "metadata": {},
   "outputs": [
    {
     "name": "stderr",
     "output_type": "stream",
     "text": [
      "C:\\ProgramData\\Anaconda3\\lib\\site-packages\\ipykernel_launcher.py:3: DeprecationWarning: use options instead of chrome_options\n",
      "  This is separate from the ipykernel package so we can avoid doing imports until\n"
     ]
    }
   ],
   "source": [
    "chromedriver = \"chromedriver.exe\"\n",
    "os.environ[\"webddriver.chromedriver\"] = chromedriver\n",
    "driver = webdriver.Chrome(chromedriver,chrome_options=chromeOptions)"
   ]
  },
  {
   "cell_type": "code",
   "execution_count": 5,
   "metadata": {},
   "outputs": [],
   "source": [
    "driver.get('http://www.portaltransparencia.gov.br/download-de-dados/despesas-execucao')"
   ]
  },
  {
   "cell_type": "code",
   "execution_count": 6,
   "metadata": {},
   "outputs": [],
   "source": [
    "ano_combo = driver.find_element_by_id('links-anos').find_elements_by_tag_name('option')"
   ]
  },
  {
   "cell_type": "code",
   "execution_count": 7,
   "metadata": {},
   "outputs": [
    {
     "name": "stdout",
     "output_type": "stream",
     "text": [
      "2020\n",
      "JANEIRO\n",
      "FEVEREIRO\n",
      "MARÇO\n",
      "ABRIL\n",
      "MAIO\n",
      "JUNHO\n",
      "JULHO\n",
      "2019\n",
      "JANEIRO\n",
      "FEVEREIRO\n",
      "MARÇO\n",
      "ABRIL\n",
      "MAIO\n",
      "JUNHO\n",
      "JULHO\n",
      "AGOSTO\n",
      "SETEMBRO\n",
      "OUTUBRO\n",
      "NOVEMBRO\n",
      "DEZEMBRO\n",
      "2018\n",
      "JANEIRO\n",
      "FEVEREIRO\n",
      "MARÇO\n",
      "ABRIL\n",
      "MAIO\n",
      "JUNHO\n",
      "JULHO\n",
      "AGOSTO\n",
      "SETEMBRO\n",
      "OUTUBRO\n",
      "NOVEMBRO\n",
      "DEZEMBRO\n",
      "2017\n",
      "JANEIRO\n",
      "FEVEREIRO\n",
      "MARÇO\n",
      "ABRIL\n",
      "MAIO\n",
      "JUNHO\n",
      "JULHO\n",
      "AGOSTO\n",
      "SETEMBRO\n",
      "OUTUBRO\n",
      "NOVEMBRO\n",
      "DEZEMBRO\n",
      "2016\n",
      "JANEIRO\n",
      "FEVEREIRO\n",
      "MARÇO\n",
      "ABRIL\n",
      "MAIO\n",
      "JUNHO\n",
      "JULHO\n",
      "AGOSTO\n",
      "SETEMBRO\n",
      "OUTUBRO\n",
      "NOVEMBRO\n",
      "DEZEMBRO\n",
      "2015\n",
      "JANEIRO\n",
      "FEVEREIRO\n",
      "MARÇO\n",
      "ABRIL\n",
      "MAIO\n",
      "JUNHO\n",
      "JULHO\n",
      "AGOSTO\n",
      "SETEMBRO\n",
      "OUTUBRO\n",
      "NOVEMBRO\n",
      "DEZEMBRO\n",
      "2014\n",
      "JANEIRO\n",
      "FEVEREIRO\n",
      "MARÇO\n",
      "ABRIL\n",
      "MAIO\n",
      "JUNHO\n",
      "JULHO\n",
      "AGOSTO\n",
      "SETEMBRO\n",
      "OUTUBRO\n",
      "NOVEMBRO\n",
      "DEZEMBRO\n"
     ]
    }
   ],
   "source": [
    "for i in ano_combo:\n",
    "    print(i.text)\n",
    "    i.click()\n",
    "    time.sleep(2)\n",
    "    mes_combo = driver.find_element_by_id('links-meses').find_elements_by_tag_name('option')\n",
    "    for j in mes_combo:\n",
    "        print(j.text)\n",
    "        j.click()\n",
    "        time.sleep(2)\n",
    "        download = driver.find_element_by_id('btn')\n",
    "        download.click()\n",
    "        time.sleep(10)"
   ]
  },
  {
   "cell_type": "code",
   "execution_count": 8,
   "metadata": {},
   "outputs": [
    {
     "name": "stdout",
     "output_type": "stream",
     "text": [
      "diretorio temp criado\n"
     ]
    }
   ],
   "source": [
    "try:\n",
    "    os.makedirs('C:\\\\datasets\\\\execucao_despesas_ptransp\\\\temp')\n",
    "    print('diretorio temp criado')\n",
    "except:\n",
    "    print('diretorio temp já existe')"
   ]
  },
  {
   "cell_type": "code",
   "execution_count": 10,
   "metadata": {},
   "outputs": [
    {
     "name": "stdout",
     "output_type": "stream",
     "text": [
      "diretorio csvs criado\n"
     ]
    }
   ],
   "source": [
    "#try:\n",
    "#    os.makedirs('C:\\\\datasets\\\\execucao_despesas_ptransp\\\\csvs')\n",
    "#    print('diretorio csvs criado')\n",
    "#except:\n",
    "#    print('diretorio csvs já existe')"
   ]
  },
  {
   "cell_type": "code",
   "execution_count": 11,
   "metadata": {},
   "outputs": [],
   "source": [
    "import zipfile"
   ]
  },
  {
   "cell_type": "code",
   "execution_count": 12,
   "metadata": {},
   "outputs": [
    {
     "name": "stdout",
     "output_type": "stream",
     "text": [
      "201401_Despesas.zip\n",
      "201402_Despesas.zip\n",
      "201403_Despesas.zip\n",
      "201404_Despesas.zip\n",
      "201405_Despesas.zip\n",
      "201406_Despesas.zip\n",
      "201407_Despesas.zip\n",
      "201408_Despesas.zip\n",
      "201409_Despesas.zip\n",
      "201410_Despesas.zip\n",
      "201411_Despesas.zip\n",
      "201412_Despesas.zip\n",
      "201501_Despesas.zip\n",
      "201502_Despesas.zip\n",
      "201503_Despesas.zip\n",
      "201504_Despesas.zip\n",
      "201505_Despesas.zip\n",
      "201506_Despesas.zip\n",
      "201507_Despesas.zip\n",
      "201508_Despesas.zip\n",
      "201509_Despesas.zip\n",
      "201510_Despesas.zip\n",
      "201511_Despesas.zip\n",
      "201512_Despesas.zip\n",
      "201601_Despesas.zip\n",
      "201602_Despesas.zip\n",
      "201603_Despesas.zip\n",
      "201604_Despesas.zip\n",
      "201605_Despesas.zip\n",
      "201606_Despesas.zip\n",
      "201607_Despesas.zip\n",
      "201608_Despesas.zip\n",
      "201609_Despesas.zip\n",
      "201610_Despesas.zip\n",
      "201611_Despesas.zip\n",
      "201612_Despesas.zip\n",
      "201701_Despesas.zip\n",
      "201702_Despesas.zip\n",
      "201703_Despesas.zip\n",
      "201704_Despesas.zip\n",
      "201705_Despesas.zip\n",
      "201706_Despesas.zip\n",
      "201707_Despesas.zip\n",
      "201708_Despesas.zip\n",
      "201709_Despesas.zip\n",
      "201710_Despesas.zip\n",
      "201711_Despesas.zip\n",
      "201712_Despesas.zip\n",
      "201801_Despesas.zip\n",
      "201802_Despesas.zip\n",
      "201803_Despesas.zip\n",
      "201804_Despesas.zip\n",
      "201805_Despesas.zip\n",
      "201806_Despesas.zip\n",
      "201807_Despesas.zip\n",
      "201808_Despesas.zip\n",
      "201809_Despesas.zip\n",
      "201810_Despesas.zip\n",
      "201811_Despesas.zip\n",
      "201812_Despesas.zip\n",
      "201901_Despesas.zip\n",
      "201902_Despesas.zip\n",
      "201903_Despesas.zip\n",
      "201904_Despesas.zip\n",
      "201905_Despesas.zip\n",
      "201906_Despesas.zip\n",
      "201907_Despesas.zip\n",
      "201908_Despesas.zip\n",
      "201909_Despesas.zip\n",
      "201910_Despesas.zip\n",
      "201911_Despesas.zip\n",
      "201912_Despesas.zip\n",
      "202001_Despesas.zip\n",
      "202002_Despesas.zip\n",
      "202003_Despesas.zip\n",
      "202004_Despesas.zip\n",
      "202005_Despesas.zip\n",
      "202006_Despesas.zip\n",
      "202007_Despesas.zip\n",
      "terminei\n"
     ]
    }
   ],
   "source": [
    "for root, dirs, files in os.walk(\"C:\\\\datasets\\\\execucao_despesas_ptransp\\\\\"):\n",
    "    for file in files:\n",
    "        if file.endswith('.zip'):\n",
    "            arq = os.path.join(root, file)\n",
    "            with zipfile.ZipFile(arq,'r') as zipado:\n",
    "                zipado.extractall('C:\\\\datasets\\\\execucao_despesas_ptransp\\\\temp')\n",
    "            print(file)\n",
    "print('terminei')"
   ]
  },
  {
   "cell_type": "code",
   "execution_count": null,
   "metadata": {},
   "outputs": [],
   "source": []
  },
  {
   "cell_type": "code",
   "execution_count": 51,
   "metadata": {},
   "outputs": [],
   "source": []
  },
  {
   "cell_type": "code",
   "execution_count": 65,
   "metadata": {},
   "outputs": [],
   "source": []
  },
  {
   "cell_type": "code",
   "execution_count": 64,
   "metadata": {},
   "outputs": [
    {
     "ename": "TypeError",
     "evalue": "'WebElement' object is not subscriptable",
     "output_type": "error",
     "traceback": [
      "\u001b[1;31m---------------------------------------------------------------------------\u001b[0m",
      "\u001b[1;31mTypeError\u001b[0m                                 Traceback (most recent call last)",
      "\u001b[1;32m<ipython-input-64-c2be383e2e23>\u001b[0m in \u001b[0;36m<module>\u001b[1;34m\u001b[0m\n\u001b[1;32m----> 1\u001b[1;33m \u001b[0mprint\u001b[0m\u001b[1;33m(\u001b[0m\u001b[0mopt_nvalue\u001b[0m\u001b[1;33m[\u001b[0m\u001b[1;36m0\u001b[0m\u001b[1;33m]\u001b[0m\u001b[1;33m)\u001b[0m\u001b[1;33m\u001b[0m\u001b[1;33m\u001b[0m\u001b[0m\n\u001b[0m",
      "\u001b[1;31mTypeError\u001b[0m: 'WebElement' object is not subscriptable"
     ]
    }
   ],
   "source": [
    "\n"
   ]
  },
  {
   "cell_type": "code",
   "execution_count": 62,
   "metadata": {},
   "outputs": [
    {
     "ename": "TypeError",
     "evalue": "'WebElement' object is not iterable",
     "output_type": "error",
     "traceback": [
      "\u001b[1;31m---------------------------------------------------------------------------\u001b[0m",
      "\u001b[1;31mTypeError\u001b[0m                                 Traceback (most recent call last)",
      "\u001b[1;32m<ipython-input-62-8cc1cfde7395>\u001b[0m in \u001b[0;36m<module>\u001b[1;34m\u001b[0m\n\u001b[1;32m----> 1\u001b[1;33m \u001b[1;32mfor\u001b[0m \u001b[0mi\u001b[0m \u001b[1;32min\u001b[0m \u001b[0mopt_nvalue\u001b[0m\u001b[1;33m:\u001b[0m\u001b[1;33m\u001b[0m\u001b[1;33m\u001b[0m\u001b[0m\n\u001b[0m\u001b[0;32m      2\u001b[0m     \u001b[0mprint\u001b[0m\u001b[1;33m(\u001b[0m\u001b[0mi\u001b[0m\u001b[1;33m.\u001b[0m\u001b[0mtext\u001b[0m\u001b[1;33m)\u001b[0m\u001b[1;33m\u001b[0m\u001b[1;33m\u001b[0m\u001b[0m\n",
      "\u001b[1;31mTypeError\u001b[0m: 'WebElement' object is not iterable"
     ]
    }
   ],
   "source": [
    "for i in opt_nvalue:\n",
    "    print(i.text)"
   ]
  },
  {
   "cell_type": "code",
   "execution_count": 41,
   "metadata": {},
   "outputs": [
    {
     "name": "stdout",
     "output_type": "stream",
     "text": [
      "None\n"
     ]
    }
   ],
   "source": [
    "print(t)"
   ]
  },
  {
   "cell_type": "code",
   "execution_count": 21,
   "metadata": {},
   "outputs": [
    {
     "ename": "IndexError",
     "evalue": "list index out of range",
     "output_type": "error",
     "traceback": [
      "\u001b[1;31m---------------------------------------------------------------------------\u001b[0m",
      "\u001b[1;31mIndexError\u001b[0m                                Traceback (most recent call last)",
      "\u001b[1;32m<ipython-input-21-66995914a638>\u001b[0m in \u001b[0;36m<module>\u001b[1;34m\u001b[0m\n\u001b[1;32m----> 1\u001b[1;33m \u001b[0mprint\u001b[0m\u001b[1;33m(\u001b[0m\u001b[0mano_combo\u001b[0m\u001b[1;33m[\u001b[0m\u001b[1;36m1\u001b[0m\u001b[1;33m]\u001b[0m\u001b[1;33m.\u001b[0m\u001b[0mtext\u001b[0m\u001b[1;33m)\u001b[0m\u001b[1;33m\u001b[0m\u001b[1;33m\u001b[0m\u001b[0m\n\u001b[0m",
      "\u001b[1;31mIndexError\u001b[0m: list index out of range"
     ]
    }
   ],
   "source": [
    "opt_nvalue = driver.find_element_by_xpath(\"//select[@id='links-anos']/option[text()='jumbo fruit 4']\").click() "
   ]
  }
 ],
 "metadata": {
  "kernelspec": {
   "display_name": "Python 3",
   "language": "python",
   "name": "python3"
  },
  "language_info": {
   "codemirror_mode": {
    "name": "ipython",
    "version": 3
   },
   "file_extension": ".py",
   "mimetype": "text/x-python",
   "name": "python",
   "nbconvert_exporter": "python",
   "pygments_lexer": "ipython3",
   "version": "3.7.4"
  }
 },
 "nbformat": 4,
 "nbformat_minor": 2
}
