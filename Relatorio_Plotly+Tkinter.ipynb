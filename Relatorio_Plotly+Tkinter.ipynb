{
 "cells": [
  {
   "cell_type": "code",
   "execution_count": 1,
   "metadata": {},
   "outputs": [],
   "source": [
    "import numpy as np\n",
    "import pandas as pd"
   ]
  },
  {
   "cell_type": "code",
   "execution_count": 2,
   "metadata": {},
   "outputs": [],
   "source": [
    "import matplotlib.pyplot as plt\n",
    "#import seaborn as sns\n",
    "%matplotlib inline"
   ]
  },
  {
   "cell_type": "code",
   "execution_count": 3,
   "metadata": {},
   "outputs": [],
   "source": [
    "import plotly.offline as pyo\n",
    "import plotly.graph_objs as go"
   ]
  },
  {
   "cell_type": "code",
   "execution_count": 4,
   "metadata": {},
   "outputs": [],
   "source": [
    "from ipywidgets import interact, interactive, fixed, interact_manual\n",
    "import ipywidgets as widgets"
   ]
  },
  {
   "cell_type": "code",
   "execution_count": 5,
   "metadata": {},
   "outputs": [],
   "source": [
    "import datetime"
   ]
  },
  {
   "cell_type": "code",
   "execution_count": 6,
   "metadata": {},
   "outputs": [],
   "source": [
    "import tkinter as tk\n",
    "from tkinter import ttk"
   ]
  },
  {
   "cell_type": "code",
   "execution_count": 7,
   "metadata": {},
   "outputs": [],
   "source": [
    "from tkcolorpicker import askcolor"
   ]
  },
  {
   "cell_type": "code",
   "execution_count": 8,
   "metadata": {},
   "outputs": [],
   "source": [
    "delta = datetime.timedelta(days=14)"
   ]
  },
  {
   "cell_type": "code",
   "execution_count": 9,
   "metadata": {},
   "outputs": [],
   "source": [
    "df = pd.read_csv('testecsvtrab.csv')"
   ]
  },
  {
   "cell_type": "code",
   "execution_count": 10,
   "metadata": {},
   "outputs": [],
   "source": [
    "df['Data Hora Inicial'] = pd.to_datetime(df['Data Hora Inicial'], dayfirst=True)"
   ]
  },
  {
   "cell_type": "code",
   "execution_count": 11,
   "metadata": {},
   "outputs": [],
   "source": [
    "lista_alvos = []"
   ]
  },
  {
   "cell_type": "code",
   "execution_count": 12,
   "metadata": {},
   "outputs": [],
   "source": [
    "for nome in df['Nome do Alvo'].unique():\n",
    "    lista_alvos.append(nome)"
   ]
  },
  {
   "cell_type": "code",
   "execution_count": null,
   "metadata": {},
   "outputs": [],
   "source": []
  },
  {
   "cell_type": "code",
   "execution_count": 13,
   "metadata": {},
   "outputs": [
    {
     "data": {
      "text/plain": [
       "' Jonas BR Distribuidora - Catar'"
      ]
     },
     "execution_count": 13,
     "metadata": {},
     "output_type": "execute_result"
    }
   ],
   "source": [
    "lista_alvos[0]"
   ]
  },
  {
   "cell_type": "code",
   "execution_count": 38,
   "metadata": {},
   "outputs": [
    {
     "ename": "NameError",
     "evalue": "name 'nlista' is not defined",
     "output_type": "error",
     "traceback": [
      "\u001b[1;31m---------------------------------------------------------------------------\u001b[0m",
      "\u001b[1;31mNameError\u001b[0m                                 Traceback (most recent call last)",
      "\u001b[1;32m<ipython-input-38-8059ccbcfca8>\u001b[0m in \u001b[0;36m<module>\u001b[1;34m()\u001b[0m\n\u001b[1;32m----> 1\u001b[1;33m \u001b[0mnlista\u001b[0m\u001b[1;33m\u001b[0m\u001b[0m\n\u001b[0m",
      "\u001b[1;31mNameError\u001b[0m: name 'nlista' is not defined"
     ]
    }
   ],
   "source": [
    "nlista"
   ]
  },
  {
   "cell_type": "code",
   "execution_count": 47,
   "metadata": {},
   "outputs": [
    {
     "ename": "NameError",
     "evalue": "name 'df1' is not defined",
     "output_type": "error",
     "traceback": [
      "\u001b[1;31m---------------------------------------------------------------------------\u001b[0m",
      "\u001b[1;31mNameError\u001b[0m                                 Traceback (most recent call last)",
      "\u001b[1;32m<ipython-input-47-0a65c6bb859a>\u001b[0m in \u001b[0;36m<module>\u001b[1;34m()\u001b[0m\n\u001b[1;32m----> 1\u001b[1;33m \u001b[0mdf2\u001b[0m \u001b[1;33m=\u001b[0m \u001b[0mdf1\u001b[0m\u001b[1;33m.\u001b[0m\u001b[0msort_values\u001b[0m\u001b[1;33m(\u001b[0m\u001b[0mby\u001b[0m\u001b[1;33m=\u001b[0m\u001b[1;34m'Data Hora Inicial'\u001b[0m\u001b[1;33m)\u001b[0m\u001b[1;33m\u001b[0m\u001b[0m\n\u001b[0m",
      "\u001b[1;31mNameError\u001b[0m: name 'df1' is not defined"
     ]
    }
   ],
   "source": [
    "df2 = df1.sort_values(by='Data Hora Inicial')"
   ]
  },
  {
   "cell_type": "code",
   "execution_count": 18,
   "metadata": {},
   "outputs": [
    {
     "ename": "NameError",
     "evalue": "name 'df2' is not defined",
     "output_type": "error",
     "traceback": [
      "\u001b[1;31m---------------------------------------------------------------------------\u001b[0m",
      "\u001b[1;31mNameError\u001b[0m                                 Traceback (most recent call last)",
      "\u001b[1;32m<ipython-input-18-401ba0263916>\u001b[0m in \u001b[0;36m<module>\u001b[1;34m()\u001b[0m\n\u001b[1;32m----> 1\u001b[1;33m \u001b[0mdf2\u001b[0m\u001b[1;33m[\u001b[0m\u001b[1;34m'Data Hora Inicial'\u001b[0m\u001b[1;33m]\u001b[0m\u001b[1;33m.\u001b[0m\u001b[0miat\u001b[0m\u001b[1;33m[\u001b[0m\u001b[1;36m0\u001b[0m\u001b[1;33m]\u001b[0m\u001b[1;33m\u001b[0m\u001b[0m\n\u001b[0m",
      "\u001b[1;31mNameError\u001b[0m: name 'df2' is not defined"
     ]
    }
   ],
   "source": [
    "df2['Data Hora Inicial'].iat[0]"
   ]
  },
  {
   "cell_type": "code",
   "execution_count": 13,
   "metadata": {},
   "outputs": [],
   "source": [
    "df['Data'] = df['Data Hora Inicial'].dt.date"
   ]
  },
  {
   "cell_type": "code",
   "execution_count": 14,
   "metadata": {},
   "outputs": [],
   "source": [
    "df['Hora'] = df['Data Hora Inicial'].dt.time"
   ]
  },
  {
   "cell_type": "code",
   "execution_count": 61,
   "metadata": {},
   "outputs": [],
   "source": [
    "#bkg_cor = '#000000'\n",
    "#def getBkgColor():\n",
    "#    color1 = askcolor()\n",
    "#    global bkg_cor \n",
    "#    bkg_cor = color1[1]\n",
    "#    return bkg_cor"
   ]
  },
  {
   "cell_type": "code",
   "execution_count": 17,
   "metadata": {},
   "outputs": [],
   "source": [
    "contorno = '#000000'\n",
    "def getContornoColor():\n",
    "    color1 = askcolor()\n",
    "    global contorno \n",
    "    contorno = color1[1]\n",
    "    return contorno"
   ]
  },
  {
   "cell_type": "code",
   "execution_count": 18,
   "metadata": {},
   "outputs": [],
   "source": [
    "fundo = '#ffffff'\n",
    "def getFundoColor():\n",
    "    color1 = askcolor()\n",
    "    global fundo \n",
    "    fundo = color1[1]\n",
    "    return fundo"
   ]
  },
  {
   "cell_type": "code",
   "execution_count": 19,
   "metadata": {},
   "outputs": [],
   "source": [
    "papel = '#ffffff'\n",
    "def getPapelColor():\n",
    "    color1 = askcolor()\n",
    "    global papel \n",
    "    papel = color1[1]\n",
    "    return papel"
   ]
  },
  {
   "cell_type": "code",
   "execution_count": 20,
   "metadata": {},
   "outputs": [],
   "source": [
    "tituloy = '#000000'\n",
    "def getTitleYColor():\n",
    "    color1 = askcolor()\n",
    "    global tituloy \n",
    "    tituloy = color1[1]\n",
    "    return tituloy"
   ]
  },
  {
   "cell_type": "code",
   "execution_count": 21,
   "metadata": {},
   "outputs": [],
   "source": [
    "titulox = '#000000'\n",
    "def getTitleXColor():\n",
    "    color1 = askcolor()\n",
    "    global titulox \n",
    "    titulox = color1[1]\n",
    "    return titulox"
   ]
  },
  {
   "cell_type": "code",
   "execution_count": 22,
   "metadata": {},
   "outputs": [],
   "source": [
    "gridx = '#000000'\n",
    "def getGridXColor():\n",
    "    color1 = askcolor()\n",
    "    global gridx \n",
    "    gridx = color1[1]\n",
    "    return gridx"
   ]
  },
  {
   "cell_type": "code",
   "execution_count": 23,
   "metadata": {},
   "outputs": [],
   "source": [
    "gridy = '#000000'\n",
    "def getGridYColor():\n",
    "    color1 = askcolor()\n",
    "    global gridy \n",
    "    gridy = color1[1]\n",
    "    return gridy"
   ]
  },
  {
   "cell_type": "code",
   "execution_count": 24,
   "metadata": {},
   "outputs": [],
   "source": [
    "def funcao_teste():\n",
    "    global cor\n",
    "    global contorno\n",
    "    global fundo\n",
    "    global papel\n",
    "    global titulox\n",
    "    global tituloy\n",
    "    global gridy\n",
    "    global gridx\n",
    "    nome_filtro = str(comboExample.get())\n",
    "    df1 = df[df['Nome do Alvo']==nome_filtro]\n",
    "    df1 = df1.sort_values(by='Data')  \n",
    "    df1['d15'] = df1['Data'].iat[0]+delta\n",
    "    print(str(nome_filtro))\n",
    "    print('Data Inicio Prevista: ',df1['Data Hora Inicial'].iat[0],' Data Final Prevista: ',df1['Data Hora Inicial'].iat[0]+delta)\n",
    "    print(df1['Data Hora Inicial'].iat[len(df1['Data Hora Inicial'])-1],'\\n')\n",
    "    df1['Data'] = df1['Data Hora Inicial'].dt.date\n",
    "    df1['Hora'] = df1['Data Hora Inicial'].dt.time\n",
    "    df1['horac'] = pd.to_datetime(df1['Hora'], format='%H:%M:%S')\n",
    "    #-------laço para checar periodos\n",
    "    for valor in range(0,len(df1['Data'])):\n",
    "        try:\n",
    "            if df1['Data'].iat[valor] <= df1['d15'].iat[valor-1]:\n",
    "                df1['d15'].iat[valor] = df1['d15'].iat[valor-1]\n",
    "            else:\n",
    "                df1['d15'].iat[valor] = df1['d15'].iat[valor-1]+delta\n",
    "        except:\n",
    "            df1['d15'].iat[valor] = df1['d15'].iat[valor]\n",
    "        else:\n",
    "            pass\n",
    "    print(df1.groupby('d15').Data.nunique())\n",
    "    #---- fim do laço para checar periodos\n",
    "    data = []\n",
    "    for x, dt_periodo in df1.groupby('d15'): \n",
    "        data.append(go.Scatter(x = dt_periodo['Data'], y= dt_periodo['horac'],  mode='markers',text=df1['Nome do Alvo']+'<br>'+df1['Nome do Arquivo'],marker=dict(\n",
    "            size=8,\n",
    "            #color=bkg_cor,\n",
    "\n",
    "            #symbol = '',\n",
    "            line = {'width':.8,'color':contorno}\n",
    "                )))\n",
    "        layout = go.Layout(title='Ligações', xaxis={'title':'Dia','color':titulox,'gridcolor':gridx},yaxis=dict(title='Hora', tickformat='%H:%M:%S',color=tituloy,gridcolor=gridy),hovermode='closest',\n",
    "                              paper_bgcolor=papel,\n",
    "                              plot_bgcolor=fundo,\n",
    "\n",
    "                          )\n",
    "    dimJU1 = np.datetime64('2015-09-01')\n",
    "    dfmJU1 = np.datetime64('2015-09-20')\n",
    "    df1['mandado'] = '2015-09-01'\n",
    "    df1['mandado'] = np.where(((df1['Data'] <= dfmJU1) & (df1['Data'] >= dimJU1)),'primeiro mandado','nada')\n",
    "    df1['cor'] = np.where(df1['mandado'] == 'primeiro mandado', 'black','rgba(255, 0, 0, 0.0)')\n",
    "    data.append(go.Scatter(x = df1['Data'], y= df1['horac'],  mode='markers',text=df1['Nome do Alvo']+'<br>'+df1['Nome do Arquivo'],marker=dict(\n",
    "            size=8,\n",
    "            color=df1['cor'],\n",
    "\n",
    "            #symbol = '',\n",
    "            #line = {'width':.8,'color':'black'}\n",
    "                )))\n",
    "    #dadoss = [data,dados]\n",
    "    fig = go.Figure(data=data, layout=layout)\n",
    "    pyo.plot(fig, filename='scatter.html')\n",
    "    \n",
    "    return df1"
   ]
  },
  {
   "cell_type": "code",
   "execution_count": 26,
   "metadata": {},
   "outputs": [
    {
     "name": "stdout",
     "output_type": "stream",
     "text": [
      " Jose Carlos Ulhoa Fonseca- Riade\n",
      "Data Inicio Prevista:  2015-03-10 12:07:40  Data Final Prevista:  2015-03-24 12:07:40\n",
      "2015-11-20 16:36:08 \n",
      "\n",
      "d15\n",
      "2015-03-24    15\n",
      "2015-04-07     2\n",
      "2015-04-21     1\n",
      "2015-05-05    13\n",
      "2015-05-19     3\n",
      "2015-06-02     1\n",
      "2015-06-16     3\n",
      "2015-06-30    14\n",
      "2015-07-14    13\n",
      "2015-07-28    11\n",
      "2015-08-11    12\n",
      "2015-08-25    12\n",
      "2015-09-08    13\n",
      "2015-09-22    10\n",
      "2015-10-06    14\n",
      "2015-10-20    13\n",
      "2015-11-03    12\n",
      "2015-11-17    11\n",
      "2015-12-01     3\n",
      "Name: Data, dtype: int64\n",
      " Antonio Matias - Riade\n",
      "Data Inicio Prevista:  2015-04-23 13:43:26  Data Final Prevista:  2015-05-07 13:43:26\n",
      "2015-11-20 17:33:49 \n",
      "\n",
      "d15\n",
      "2015-05-07    15\n",
      "2015-05-21     1\n",
      "2015-06-04     1\n",
      "2015-06-18     3\n",
      "2015-07-02    13\n",
      "2015-07-16    13\n",
      "2015-07-30     7\n",
      "2015-08-13    11\n",
      "2015-08-27    13\n",
      "2015-09-10    14\n",
      "2015-09-24    14\n",
      "2015-10-08    14\n",
      "2015-10-22    13\n",
      "2015-11-05    10\n",
      "2015-11-19    13\n",
      "2015-12-03     1\n",
      "Name: Data, dtype: int64\n",
      " Raphael Torres - Op Java\n",
      "Data Inicio Prevista:  2015-11-18 08:10:29  Data Final Prevista:  2015-12-02 08:10:29\n",
      "2016-01-12 15:09:41 \n",
      "\n",
      "d15\n",
      "2015-12-02    15\n",
      "2015-12-16     1\n",
      "2015-12-30     3\n",
      "2016-01-13    13\n",
      "Name: Data, dtype: int64\n",
      " Valdemir Cascol - Riade\n",
      "Data Inicio Prevista:  2015-11-08 08:24:05  Data Final Prevista:  2015-11-22 08:24:05\n",
      "2015-11-20 17:38:38 \n",
      "\n",
      "d15\n",
      "2015-11-22    13\n",
      "Name: Data, dtype: int64\n"
     ]
    }
   ],
   "source": [
    "app = tk.Tk() \n",
    "app.geometry('700x400')\n",
    "labelTop = tk.Label(app,\n",
    "                    text = \"Selecione o Alvo\")\n",
    "labelTop.grid(column=0, row=0)\n",
    "\n",
    "comboExample = ttk.Combobox(app, \n",
    "                            values=lista_alvos, width=40)\n",
    "\n",
    "comboExample.grid(column=2, row=0)\n",
    "comboExample.current(1)\n",
    "\n",
    "envia_btn = tk.Button(text =\"Gerar Grafico!\", command = funcao_teste)\n",
    "envia_btn.grid(column=2,row=3)\n",
    "\n",
    "#cor_btn = tk.Button(text =\"preenchimento\", command = getBkgColor)\n",
    "#cor_btn.grid(column=0,row=1)\n",
    "\n",
    "contorno_btn = tk.Button(text =\"contorno\", command = getContornoColor)\n",
    "contorno_btn.grid(column=1,row=1)\n",
    "\n",
    "fundo_btn = tk.Button(text =\"cor de fundo\", command = getFundoColor)\n",
    "fundo_btn.grid(column=2,row=1)\n",
    "\n",
    "papel_btn = tk.Button(text =\"cor do papel\", command = getPapelColor)\n",
    "papel_btn.grid(column=3,row=1)\n",
    "\n",
    "titlex_btn = tk.Button(text =\"Titulo Eixo X\", command = getTitleXColor)\n",
    "titlex_btn.grid(column=0,row=2)\n",
    "\n",
    "titley_btn = tk.Button(text =\"Titulo Eixo Y\", command = getTitleYColor)\n",
    "titley_btn.grid(column=1,row=2)\n",
    "\n",
    "gridx_btn = tk.Button(text =\"Grid Eixo X\", command = getGridXColor)\n",
    "gridx_btn.grid(column=2,row=2)\n",
    "\n",
    "gridy_btn = tk.Button(text =\"Grid Eixo Y\", command = getGridYColor)\n",
    "gridy_btn.grid(column=3,row=2)\n",
    "\n",
    "\n",
    "#print(comboExample.current(), comboExample.get())\n",
    "\n",
    "app.mainloop()"
   ]
  },
  {
   "cell_type": "code",
   "execution_count": 112,
   "metadata": {},
   "outputs": [
    {
     "ename": "NameError",
     "evalue": "name 'df1' is not defined",
     "output_type": "error",
     "traceback": [
      "\u001b[1;31m---------------------------------------------------------------------------\u001b[0m",
      "\u001b[1;31mNameError\u001b[0m                                 Traceback (most recent call last)",
      "\u001b[1;32m<ipython-input-112-54859cab9b37>\u001b[0m in \u001b[0;36m<module>\u001b[1;34m()\u001b[0m\n\u001b[1;32m----> 1\u001b[1;33m \u001b[0mdf1\u001b[0m \u001b[1;33m=\u001b[0m \u001b[0mdf1\u001b[0m\u001b[1;33m.\u001b[0m\u001b[0msort_values\u001b[0m\u001b[1;33m(\u001b[0m\u001b[0mby\u001b[0m\u001b[1;33m=\u001b[0m\u001b[1;34m'Data'\u001b[0m\u001b[1;33m)\u001b[0m\u001b[1;33m\u001b[0m\u001b[0m\n\u001b[0m\u001b[0;32m      2\u001b[0m \u001b[0mdf1\u001b[0m\u001b[1;33m[\u001b[0m\u001b[1;34m'd15'\u001b[0m\u001b[1;33m]\u001b[0m \u001b[1;33m=\u001b[0m \u001b[0mdf1\u001b[0m\u001b[1;33m[\u001b[0m\u001b[1;34m'Data'\u001b[0m\u001b[1;33m]\u001b[0m\u001b[1;33m.\u001b[0m\u001b[0miat\u001b[0m\u001b[1;33m[\u001b[0m\u001b[1;36m0\u001b[0m\u001b[1;33m]\u001b[0m\u001b[1;33m+\u001b[0m\u001b[0mdelta\u001b[0m\u001b[1;33m\u001b[0m\u001b[0m\n",
      "\u001b[1;31mNameError\u001b[0m: name 'df1' is not defined"
     ]
    }
   ],
   "source": [
    "df1 = df1.sort_values(by='Data')  \n",
    "df1['d15'] = df1['Data'].iat[0]+delta"
   ]
  },
  {
   "cell_type": "code",
   "execution_count": 270,
   "metadata": {},
   "outputs": [],
   "source": [
    "for valor in range(0,len(df1['Data'])):\n",
    "    try:\n",
    "        if df1['Data'].iat[valor] <= df1['d15'].iat[valor-1]:\n",
    "            df1['d15'].iat[valor] = df1['d15'].iat[valor-1]\n",
    "        else:\n",
    "            df1['d15'].iat[valor] = df1['d15'].iat[valor-1]+delta\n",
    "    except:\n",
    "        df1['d15'].iat[valor] = df1['d15'].iat[valor]\n",
    "    else:\n",
    "        pass\n",
    "    "
   ]
  },
  {
   "cell_type": "code",
   "execution_count": 33,
   "metadata": {},
   "outputs": [
    {
     "ename": "NameError",
     "evalue": "name 'df1' is not defined",
     "output_type": "error",
     "traceback": [
      "\u001b[1;31m---------------------------------------------------------------------------\u001b[0m",
      "\u001b[1;31mNameError\u001b[0m                                 Traceback (most recent call last)",
      "\u001b[1;32m<ipython-input-33-6a861a8b3f1a>\u001b[0m in \u001b[0;36m<module>\u001b[1;34m()\u001b[0m\n\u001b[1;32m----> 1\u001b[1;33m \u001b[0mdf1\u001b[0m\u001b[1;33m\u001b[0m\u001b[0m\n\u001b[0m",
      "\u001b[1;31mNameError\u001b[0m: name 'df1' is not defined"
     ]
    }
   ],
   "source": [
    "df1"
   ]
  },
  {
   "cell_type": "code",
   "execution_count": 273,
   "metadata": {},
   "outputs": [],
   "source": [
    "df1.to_html('teste.html')"
   ]
  },
  {
   "cell_type": "code",
   "execution_count": 283,
   "metadata": {},
   "outputs": [
    {
     "name": "stdout",
     "output_type": "stream",
     "text": [
      "d15\n",
      "2015-09-26    15\n",
      "2015-10-10    12\n",
      "2015-10-24    13\n",
      "2015-11-07     7\n",
      "2015-11-21    14\n",
      "2015-12-05    14\n",
      "2015-12-19     2\n",
      "Name: Data, dtype: int64\n"
     ]
    }
   ],
   "source": [
    "print(df1.groupby(['d15']).Data.nunique())"
   ]
  },
  {
   "cell_type": "code",
   "execution_count": null,
   "metadata": {},
   "outputs": [],
   "source": []
  }
 ],
 "metadata": {
  "kernelspec": {
   "display_name": "Python 3",
   "language": "python",
   "name": "python3"
  },
  "language_info": {
   "codemirror_mode": {
    "name": "ipython",
    "version": 3
   },
   "file_extension": ".py",
   "mimetype": "text/x-python",
   "name": "python",
   "nbconvert_exporter": "python",
   "pygments_lexer": "ipython3",
   "version": "3.7.1"
  }
 },
 "nbformat": 4,
 "nbformat_minor": 2
}
