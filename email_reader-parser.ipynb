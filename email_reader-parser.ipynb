{
 "cells": [
  {
   "cell_type": "code",
   "execution_count": 70,
   "metadata": {},
   "outputs": [
    {
     "name": "stdout",
     "output_type": "stream",
     "text": [
      "[b'187813']\n",
      "['=?UTF-8?q?#Dist=C3=A2nciaSalva,_mas_se_precisar_sair:_PREVINA-SE!?=\\\\r\\\\n']\n"
     ]
    }
   ],
   "source": [
    "import imaplib\n",
    "import re as re\n",
    "import quopri\n",
    "from email.parser import FeedParser\n",
    "import email\n",
    "\n",
    "imap_ssl_host = 'imap.gmail.com'\n",
    "imap_ssl_port = 993\n",
    "username = 'paulochicherchio@gmail.com'\n",
    "password = 'Maji091284#'\n",
    "server = imaplib.IMAP4_SSL(imap_ssl_host, imap_ssl_port)\n",
    "\n",
    "server.login(username, password)\n",
    "server.select('INBOX')\n",
    "status, data = server.search(None, '(FROM \"Vou de 99\")')\n",
    "\n",
    "#data = server.uid('search',None, '(SUBJECT \"16-bit\")')\n",
    "print(data)\n",
    "for num in data[0].split():\n",
    "    f = FeedParser()\n",
    "    #status, data = server.fetch(num, '(RFC822)')\n",
    "    status, data = server.fetch(num,'(BODY.PEEK[HEADER])')\n",
    "    #dados = bytes(str(data), 'iso-8859-1')\n",
    "    #print(email.message_from_bytes(dados))\n",
    "    \n",
    "    email_msg = str(data)\n",
    "    #f.feed(email_msg)\n",
    "    #rootMessage = f.close()\n",
    "    #print(rootMessage.is_multipart())\n",
    "    #message = rootMessage.get_payload(0).get_payload(decode=True)\n",
    "\n",
    "    #print(rootMessage)\n",
    "    #print(email_msg)\n",
    "    mensagem = re.findall(r'Subject:\\s(.*?)Content', email_msg)\n",
    "    print(mensagem)\n",
    "    "
   ]
  },
  {
   "cell_type": "code",
   "execution_count": null,
   "metadata": {},
   "outputs": [],
   "source": []
  }
 ],
 "metadata": {
  "kernelspec": {
   "display_name": "Python 3",
   "language": "python",
   "name": "python3"
  },
  "language_info": {
   "codemirror_mode": {
    "name": "ipython",
    "version": 3
   },
   "file_extension": ".py",
   "mimetype": "text/x-python",
   "name": "python",
   "nbconvert_exporter": "python",
   "pygments_lexer": "ipython3",
   "version": "3.7.3"
  }
 },
 "nbformat": 4,
 "nbformat_minor": 2
}
