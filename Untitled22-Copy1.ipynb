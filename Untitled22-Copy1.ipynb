{
 "cells": [
  {
   "cell_type": "code",
   "execution_count": 1,
   "metadata": {},
   "outputs": [],
   "source": [
    "from selenium import webdriver\n",
    "import os\n",
    "import time\n",
    "from selenium.webdriver.common.keys import Keys\n",
    "import sys\n",
    "from datetime import datetime\n",
    "from selenium.webdriver.common.action_chains import ActionChains\n",
    "from selenium.webdriver.support.ui import Select"
   ]
  },
  {
   "cell_type": "code",
   "execution_count": 2,
   "metadata": {},
   "outputs": [],
   "source": [
    "chromeOptions = webdriver.ChromeOptions()\n",
    "prefs = {\"download.default_directory\" : \"C:\\\\datasets\\\\execucao_receitas_ptransp\"}\n",
    "chromeOptions.add_experimental_option(\"prefs\",prefs)"
   ]
  },
  {
   "cell_type": "code",
   "execution_count": 3,
   "metadata": {},
   "outputs": [
    {
     "name": "stderr",
     "output_type": "stream",
     "text": [
      "C:\\ProgramData\\Anaconda3\\lib\\site-packages\\ipykernel_launcher.py:3: DeprecationWarning: use options instead of chrome_options\n",
      "  This is separate from the ipykernel package so we can avoid doing imports until\n"
     ]
    }
   ],
   "source": [
    "chromedriver = \"chromedriver.exe\"\n",
    "os.environ[\"webddriver.chromedriver\"] = chromedriver\n",
    "driver = webdriver.Chrome(chromedriver,chrome_options=chromeOptions)"
   ]
  },
  {
   "cell_type": "code",
   "execution_count": 4,
   "metadata": {},
   "outputs": [],
   "source": [
    "driver.get('http://www.portaltransparencia.gov.br/download-de-dados/receitas')"
   ]
  },
  {
   "cell_type": "code",
   "execution_count": 5,
   "metadata": {},
   "outputs": [],
   "source": [
    "ano_combo = driver.find_element_by_id('links-anos').find_elements_by_tag_name('option')"
   ]
  },
  {
   "cell_type": "code",
   "execution_count": 6,
   "metadata": {},
   "outputs": [
    {
     "name": "stdout",
     "output_type": "stream",
     "text": [
      "2020\n",
      "2019\n",
      "2018\n",
      "2017\n",
      "2016\n",
      "2015\n",
      "2014\n",
      "2013\n"
     ]
    }
   ],
   "source": [
    "for i in ano_combo:\n",
    "    print(i.text)\n",
    "    i.click()\n",
    "#    time.sleep(2)\n",
    "#    mes_combo = driver.find_element_by_id('links-meses').find_elements_by_tag_name('option')\n",
    "#    for j in mes_combo:\n",
    "#    print(j.text)\n",
    "#    j.click()\n",
    "    time.sleep(2)\n",
    "    download = driver.find_elements_by_tag_name('button')\n",
    "    download[2].click()\n",
    "    time.sleep(10)"
   ]
  },
  {
   "cell_type": "code",
   "execution_count": 7,
   "metadata": {},
   "outputs": [
    {
     "name": "stdout",
     "output_type": "stream",
     "text": [
      "diretorio temp criado\n"
     ]
    }
   ],
   "source": [
    "try:\n",
    "    os.makedirs('C:\\\\datasets\\\\execucao_receitas_ptransp\\\\temp')\n",
    "    print('diretorio temp criado')\n",
    "except:\n",
    "    print('diretorio temp já existe')"
   ]
  },
  {
   "cell_type": "code",
   "execution_count": 8,
   "metadata": {},
   "outputs": [],
   "source": [
    "import zipfile"
   ]
  },
  {
   "cell_type": "code",
   "execution_count": 9,
   "metadata": {},
   "outputs": [
    {
     "name": "stdout",
     "output_type": "stream",
     "text": [
      "2013_Receitas.zip\n",
      "2014_Receitas.zip\n",
      "2015_Receitas.zip\n",
      "2016_Receitas.zip\n",
      "2017_Receitas.zip\n",
      "2018_Receitas.zip\n",
      "2019_Receitas.zip\n",
      "2020_Receitas.zip\n",
      "terminei\n"
     ]
    }
   ],
   "source": [
    "for root, dirs, files in os.walk(\"C:\\\\datasets\\\\execucao_receitas_ptransp\\\\\"):\n",
    "    for file in files:\n",
    "        if file.endswith('.zip'):\n",
    "            arq = os.path.join(root, file)\n",
    "            with zipfile.ZipFile(arq,'r') as zipado:\n",
    "                zipado.extractall('C:\\\\datasets\\\\execucao_receitas_ptransp\\\\temp')\n",
    "            print(file)\n",
    "print('terminei')"
   ]
  }
 ],
 "metadata": {
  "kernelspec": {
   "display_name": "Python 3",
   "language": "python",
   "name": "python3"
  },
  "language_info": {
   "codemirror_mode": {
    "name": "ipython",
    "version": 3
   },
   "file_extension": ".py",
   "mimetype": "text/x-python",
   "name": "python",
   "nbconvert_exporter": "python",
   "pygments_lexer": "ipython3",
   "version": "3.7.4"
  }
 },
 "nbformat": 4,
 "nbformat_minor": 2
}
